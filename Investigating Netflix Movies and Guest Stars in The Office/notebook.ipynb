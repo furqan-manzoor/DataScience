{
 "cells": [
  {
   "cell_type": "markdown",
   "id": "6a7eb2dc-f95a-4290-8e5f-a494c5d1ad2f",
   "metadata": {
    "dc": {
     "key": "4"
    },
    "run_control": {
     "frozen": true
    },
    "tags": [
     "context"
    ]
   },
   "source": [
    "## 1. Loading your friend's data into a dictionary\n",
    "<p><img src=\"https://assets.datacamp.com/production/project_1237/img/netflix.jpg\" alt=\"Someone's feet on table facing a television\"></p>\n",
    "<p>Netflix! What started in 1997 as a DVD rental service has since exploded into the largest entertainment/media company by <a href=\"https://www.marketwatch.com/story/netflix-shares-close-up-8-for-yet-another-record-high-2020-07-10\">market capitalization</a>, boasting over 200 million subscribers as of <a href=\"https://www.cbsnews.com/news/netflix-tops-200-million-subscribers-but-faces-growing-challenge-from-disney-plus/\">January 2021</a>.</p>\n",
    "<p>Given the large number of movies and series available on the platform, it is a perfect opportunity to flex our data manipulation skills and dive into the entertainment industry. Our friend has also been brushing up on their Python skills and has taken a first crack at a CSV file containing Netflix data. For their first order of business, they have been performing some analyses, and they believe that the average duration of movies has been declining. </p>\n",
    "<p>As evidence of this, they have provided us with the following information. For the years from 2011 to 2020, the average movie durations are 103, 101, 99, 100, 100, 95, 95, 96, 93, and 90, respectively.</p>\n",
    "<p>If we're going to be working with this data, we know a good place to start would be to probably start working with <code>pandas</code>. But first we'll need to create a DataFrame from scratch. Let's start by creating a Python object covered in <a href=\"https://learn.datacamp.com/courses/intermediate-python\">Intermediate Python</a>: a dictionary!</p>"
   ]
  },
  {
   "cell_type": "code",
   "execution_count": 1,
   "id": "0be7d25e-f790-4c3d-b5be-8b6f50a0a1dd",
   "metadata": {
    "dc": {
     "key": "4"
    },
    "executionCancelledAt": null,
    "executionTime": 13,
    "lastExecutedAt": 1691308844796,
    "lastScheduledRunId": null,
    "lastSuccessfullyExecutedCode": "# Create the years and durations lists\nyears = [2011, 2012, 2013, 2014, 2015, 2016, 2017, 2018, 2019, 2020]\ndurations = [103, 101,  99, 100,  100,95, 95,  96,  93,  90]\n\n# Create a dictionary with the two lists\nmovie_dict = {\"years\":years , \"durations\":durations}\n\n# Print the dictionary\nmovie_dict",
    "tags": [
     "sample_code"
    ]
   },
   "outputs": [
    {
     "data": {
      "text/plain": [
       "{'years': [2011, 2012, 2013, 2014, 2015, 2016, 2017, 2018, 2019, 2020],\n",
       " 'durations': [103, 101, 99, 100, 100, 95, 95, 96, 93, 90]}"
      ]
     },
     "execution_count": 1,
     "metadata": {},
     "output_type": "execute_result"
    }
   ],
   "source": [
    "# Create the years and durations lists\n",
    "years = [2011, 2012, 2013, 2014, 2015, 2016, 2017, 2018, 2019, 2020]\n",
    "durations = [103, 101,  99, 100,  100,95, 95,  96,  93,  90]\n",
    "\n",
    "# Create a dictionary with the two lists\n",
    "movie_dict = {\"years\":years , \"durations\":durations}\n",
    "\n",
    "# Print the dictionary\n",
    "movie_dict"
   ]
  },
  {
   "cell_type": "markdown",
   "id": "46dfdb0d-a383-492b-933c-138eb87a6504",
   "metadata": {
    "dc": {
     "key": "11"
    },
    "run_control": {
     "frozen": true
    },
    "tags": [
     "context"
    ]
   },
   "source": [
    "## 2. Creating a DataFrame from a dictionary\n",
    "<p>To convert our dictionary <code>movie_dict</code> to a <code>pandas</code> DataFrame, we will first need to import the library under its usual alias. We'll also want to inspect our DataFrame to ensure it was created correctly. Let's perform these steps now.</p>"
   ]
  },
  {
   "cell_type": "code",
   "execution_count": 2,
   "id": "7a1b6332-7fa2-4860-be51-fc8749a37970",
   "metadata": {
    "dc": {
     "key": "11"
    },
    "executionCancelledAt": null,
    "executionTime": 46,
    "lastExecutedAt": 1691308844842,
    "lastScheduledRunId": null,
    "lastSuccessfullyExecutedCode": "# Import pandas under its usual alias\nimport pandas as pd\n\n# Create a DataFrame from the dictionary\ndurations_df = pd.DataFrame(movie_dict)\n\n# Print the DataFrame\nprint(durations_df)",
    "outputsMetadata": {
     "0": {
      "height": 232,
      "type": "stream"
     }
    },
    "tags": [
     "sample_code"
    ]
   },
   "outputs": [
    {
     "name": "stdout",
     "output_type": "stream",
     "text": [
      "   years  durations\n",
      "0   2011        103\n",
      "1   2012        101\n",
      "2   2013         99\n",
      "3   2014        100\n",
      "4   2015        100\n",
      "5   2016         95\n",
      "6   2017         95\n",
      "7   2018         96\n",
      "8   2019         93\n",
      "9   2020         90\n"
     ]
    }
   ],
   "source": [
    "# Import pandas under its usual alias\n",
    "import pandas as pd\n",
    "\n",
    "# Create a DataFrame from the dictionary\n",
    "durations_df = pd.DataFrame(movie_dict)\n",
    "\n",
    "# Print the DataFrame\n",
    "print(durations_df)"
   ]
  },
  {
   "cell_type": "markdown",
   "id": "419c7d20-d84f-4269-b732-9e57ab565b4e",
   "metadata": {
    "dc": {
     "key": "18"
    },
    "run_control": {
     "frozen": true
    },
    "tags": [
     "context"
    ]
   },
   "source": [
    "## 3. A visual inspection of our data\n",
    "<p>Alright, we now have a <code>pandas</code> DataFrame, the most common way to work with tabular data in Python. Now back to the task at hand. We want to follow up on our friend's assertion that movie lengths have been decreasing over time. A great place to start will be a visualization of the data.</p>\n",
    "<p>Given that the data is continuous, a line plot would be a good choice, with the dates represented along the x-axis and the average length in minutes along the y-axis. This will allow us to easily spot any trends in movie durations. There are many ways to visualize data in Python, but <code>matploblib.pyplot</code> is one of the most common packages to do so.</p>\n",
    "<p><em>Note: In order for us to correctly test your plot, you will need to initalize a <code>matplotlib.pyplot</code> Figure object, which we have already provided in the cell below. You can continue to create your plot as you have learned in Intermediate Python.</em></p>"
   ]
  },
  {
   "cell_type": "code",
   "execution_count": 3,
   "id": "5d2a07d5-e07b-4dd2-bc6d-382ce6787e9b",
   "metadata": {
    "dc": {
     "key": "18"
    },
    "executionCancelledAt": null,
    "executionTime": 147,
    "lastExecutedAt": 1691308844989,
    "lastScheduledRunId": null,
    "lastSuccessfullyExecutedCode": "# Import matplotlib.pyplot under its usual alias and create a figure\nimport matplotlib.pyplot as plt\nfig = plt.figure()\n\n# Draw a line plot of release_years and durations\nplt.plot(years, durations, marker='o', linestyle='-', color='r')\n\n# Create a title\nplt.title('Netflix Movie Durations 2011-2020')\n\n# Show the plot\nplt.show()",
    "tags": [
     "sample_code"
    ]
   },
   "outputs": [
    {
     "data": {
      "image/png": "[encoded data removed]",
      "text/plain": [
       "<Figure size 432x288 with 1 Axes>"
      ]
     },
     "metadata": {
      "needs_background": "light"
     },
     "output_type": "display_data"
    }
   ],
   "source": [
    "# Import matplotlib.pyplot under its usual alias and create a figure\n",
    "import matplotlib.pyplot as plt\n",
    "fig = plt.figure()\n",
    "\n",
    "# Draw a line plot of release_years and durations\n",
    "plt.plot(years, durations, marker='o', linestyle='-', color='r')\n",
    "\n",
    "# Create a title\n",
    "plt.title('Netflix Movie Durations 2011-2020')\n",
    "\n",
    "# Show the plot\n",
    "plt.show()"
   ]
  },
  {
   "cell_type": "markdown",
   "id": "7e5be338-863f-4064-ae3a-f00249b4e6fe",
   "metadata": {
    "dc": {
     "key": "25"
    },
    "run_control": {
     "frozen": true
    },
    "tags": [
     "context"
    ]
   },
   "source": [
    "## 4. Loading the rest of the data from a CSV\n",
    "<p>Well, it looks like there is something to the idea that movie lengths have decreased over the past ten years! But equipped only with our friend's aggregations, we're limited in the further explorations we can perform. There are a few questions about this trend that we are currently unable to answer, including:</p>\n",
    "<ol>\n",
    "<li>What does this trend look like over a longer period of time?</li>\n",
    "<li>Is this explainable by something like the genre of entertainment?</li>\n",
    "</ol>\n",
    "<p>Upon asking our friend for the original CSV they used to perform their analyses, they gladly oblige and send it. We now have access to the CSV file, available at the path <code>\"datasets/netflix_data.csv\"</code>. Let's create another DataFrame, this time with all of the data. Given the length of our friend's data, printing the whole DataFrame is probably not a good idea, so we will inspect it by printing only the first five rows.</p>"
   ]
  },
  {
   "cell_type": "code",
   "execution_count": 4,
   "id": "3b4e0127-9974-4f6c-9f80-bcedb32321e3",
   "metadata": {
    "dc": {
     "key": "25"
    },
    "executionCancelledAt": null,
    "executionTime": null,
    "lastExecutedAt": null,
    "lastScheduledRunId": null,
    "lastSuccessfullyExecutedCode": null,
    "outputsMetadata": {
     "0": {
      "height": 173,
      "type": "stream"
     }
    },
    "tags": [
     "sample_code"
    ]
   },
   "outputs": [
    {
     "name": "stdout",
     "output_type": "stream",
     "text": [
      "  show_id     type  title           director  \\\n",
      "0      s1  TV Show     3%                NaN   \n",
      "1      s2    Movie   7:19  Jorge Michel Grau   \n",
      "2      s3    Movie  23:59       Gilbert Chan   \n",
      "3      s4    Movie      9        Shane Acker   \n",
      "4      s5    Movie     21     Robert Luketic   \n",
      "\n",
      "                                                cast        country  \\\n",
      "0  João Miguel, Bianca Comparato, Michel Gomes, R...         Brazil   \n",
      "1  Demián Bichir, Héctor Bonilla, Oscar Serrano, ...         Mexico   \n",
      "2  Tedd Chan, Stella Chung, Henley Hii, Lawrence ...      Singapore   \n",
      "3  Elijah Wood, John C. Reilly, Jennifer Connelly...  United States   \n",
      "4  Jim Sturgess, Kevin Spacey, Kate Bosworth, Aar...  United States   \n",
      "\n",
      "          date_added  release_year  duration  \\\n",
      "0    August 14, 2020          2020         4   \n",
      "1  December 23, 2016          2016        93   \n",
      "2  December 20, 2018          2011        78   \n",
      "3  November 16, 2017          2009        80   \n",
      "4    January 1, 2020          2008       123   \n",
      "\n",
      "                                         description             genre  \n",
      "0  In a future where the elite inhabit an island ...  International TV  \n",
      "1  After a devastating earthquake hits Mexico Cit...            Dramas  \n",
      "2  When an army recruit is found dead, his fellow...     Horror Movies  \n",
      "3  In a postapocalyptic world, rag-doll robots hi...            Action  \n",
      "4  A brilliant group of students become card-coun...            Dramas  \n"
     ]
    }
   ],
   "source": [
    "# Read in the CSV as a DataFrame\n",
    "netflix_df = pd.read_csv(\"datasets/netflix_data.csv\")\n",
    "\n",
    "# Print the first five rows of the DataFrame\n",
    "print(netflix_df[0:5])"
   ]
  },
  {
   "cell_type": "markdown",
   "id": "153a7f83-3a61-4904-952b-1b29a6571ea2",
   "metadata": {
    "dc": {
     "key": "32"
    },
    "run_control": {
     "frozen": true
    },
    "tags": [
     "context"
    ]
   },
   "source": [
    "## 5. Filtering for movies!\n",
    "<p>Okay, we have our data! Now we can dive in and start looking at movie lengths. </p>\n",
    "<p>Or can we? Looking at the first five rows of our new DataFrame, we notice a column <code>type</code>. Scanning the column, it's clear there are also TV shows in the dataset! Moreover, the <code>duration</code> column we planned to use seems to represent different values depending on whether the row is a movie or a show (perhaps the number of minutes versus the number of seasons)?</p>\n",
    "<p>Fortunately, a DataFrame allows us to filter data quickly, and we can select rows where <code>type</code> is <code>Movie</code>. While we're at it, we don't need information from all of the columns, so let's create a new DataFrame <code>netflix_movies</code> containing only <code>title</code>, <code>country</code>, <code>genre</code>, <code>release_year</code>, and <code>duration</code>.</p>\n",
    "<p>Let's put our data subsetting skills to work!</p>"
   ]
  },
  {
   "cell_type": "code",
   "execution_count": 5,
   "id": "67ff39b5-010e-4069-a038-076b472ac6c1",
   "metadata": {
    "dc": {
     "key": "32"
    },
    "executionCancelledAt": null,
    "executionTime": 50,
    "lastExecutedAt": 1691308845095,
    "lastScheduledRunId": null,
    "lastSuccessfullyExecutedCode": "# Subset the DataFrame for type \"Movie\"\nnetflix_df_movies_only = netflix_df[netflix_df['type'] == 'Movie']\n\n# Select only the columns of interest\ncolumns_of_interest = ['title', 'country', 'genre', 'release_year', 'duration']\nnetflix_movies_col_subset = netflix_df_movies_only[columns_of_interest]\n\n# Print the first five rows of the new DataFrame\nprint(netflix_movies_col_subset.head())",
    "outputsMetadata": {
     "0": {
      "height": 134,
      "type": "stream"
     }
    },
    "tags": [
     "sample_code"
    ]
   },
   "outputs": [
    {
     "name": "stdout",
     "output_type": "stream",
     "text": [
      "   title        country          genre  release_year  duration\n",
      "1   7:19         Mexico         Dramas          2016        93\n",
      "2  23:59      Singapore  Horror Movies          2011        78\n",
      "3      9  United States         Action          2009        80\n",
      "4     21  United States         Dramas          2008       123\n",
      "6    122          Egypt  Horror Movies          2019        95\n"
     ]
    }
   ],
   "source": [
    "# Subset the DataFrame for type \"Movie\"\n",
    "netflix_df_movies_only = netflix_df[netflix_df['type'] == 'Movie']\n",
    "\n",
    "# Select only the columns of interest\n",
    "columns_of_interest = ['title', 'country', 'genre', 'release_year', 'duration']\n",
    "netflix_movies_col_subset = netflix_df_movies_only[columns_of_interest]\n",
    "\n",
    "# Print the first five rows of the new DataFrame\n",
    "print(netflix_movies_col_subset.head())"
   ]
  },
  {
   "cell_type": "markdown",
   "id": "a6deb243-7444-41dc-8c95-4d422fb8803c",
   "metadata": {
    "dc": {
     "key": "39"
    },
    "run_control": {
     "frozen": true
    },
    "tags": [
     "context"
    ]
   },
   "source": [
    "## 6. Creating a scatter plot\n",
    "<p>Okay, now we're getting somewhere. We've read in the raw data, selected rows of movies, and have limited our DataFrame to our columns of interest. Let's try visualizing the data again to inspect the data over a longer range of time.</p>\n",
    "<p>This time, we are no longer working with aggregates but instead with individual movies. A line plot is no longer a good choice for our data, so let's try a scatter plot instead. We will again plot the year of release on the x-axis and the movie duration on the y-axis.</p>\n",
    "<p><em>Note: Although not taught in Intermediate Python, we have provided you the code <code>fig = plt.figure(figsize=(12,8))</code> to increase the size of the plot (to help you see the results), as well as to assist with testing. For more information on how to create or work with a <code>matplotlib</code> <code>figure</code>, refer to the <a href=\"https://matplotlib.org/stable/api/_as_gen/matplotlib.pyplot.figure.html\">documentation</a>.</em></p>"
   ]
  },
  {
   "cell_type": "code",
   "execution_count": 6,
   "id": "8fe48e3f-f627-4c3e-a25c-28c84adb509a",
   "metadata": {
    "dc": {
     "key": "39"
    },
    "executionCancelledAt": null,
    "executionTime": 199,
    "lastExecutedAt": 1691308845294,
    "lastScheduledRunId": null,
    "lastSuccessfullyExecutedCode": "# Create a figure and increase the figure size\nfig = plt.figure(figsize=(12,8))\n\n# Create a scatter plot of duration versus year\nplt.scatter(years, durations, marker='o', color='r')\n\n\n# Create a title\nplt.title('Movie Duration by Year of Release')\n\n# Show the plot\nplt.show()",
    "tags": [
     "sample_code"
    ]
   },
   "outputs": [
    {
     "data": {
      "image/png": "[encoded data removed]",
      "text/plain": [
       "<Figure size 864x576 with 1 Axes>"
      ]
     },
     "metadata": {
      "needs_background": "light"
     },
     "output_type": "display_data"
    }
   ],
   "source": [
    "# Create a figure and increase the figure size\n",
    "fig = plt.figure(figsize=(12,8))\n",
    "\n",
    "# Create a scatter plot of duration versus year\n",
    "plt.scatter(years, durations, marker='o', color='r')\n",
    "\n",
    "\n",
    "# Create a title\n",
    "plt.title('Movie Duration by Year of Release')\n",
    "\n",
    "# Show the plot\n",
    "plt.show()"
   ]
  },
  {
   "cell_type": "markdown",
   "id": "fb269976-5d96-4667-a5cf-be0623f33d96",
   "metadata": {
    "dc": {
     "key": "46"
    },
    "run_control": {
     "frozen": true
    },
    "tags": [
     "context"
    ]
   },
   "source": [
    "## 7. Digging deeper\n",
    "<p>This is already much more informative than the simple plot we created when our friend first gave us some data. We can also see that, while newer movies are overrepresented on the platform, many short movies have been released in the past two decades.</p>\n",
    "<p>Upon further inspection, something else is going on. Some of these films are under an hour long! Let's filter our DataFrame for movies with a <code>duration</code> under 60 minutes and look at the genres. This might give us some insight into what is dragging down the average.</p>"
   ]
  },
  {
   "cell_type": "code",
   "execution_count": 7,
   "id": "e1cf3d8f-8733-4292-a933-d9d4e98519b8",
   "metadata": {
    "dc": {
     "key": "46"
    },
    "executionCancelledAt": null,
    "executionTime": 53,
    "lastExecutedAt": 1691308845347,
    "lastScheduledRunId": null,
    "lastSuccessfullyExecutedCode": "# Filter for durations shorter than 60 minutes\nshort_movies = netflix_movies_col_subset[netflix_df['duration'] < 60 ]\n\n# Print the first 20 rows of short_movies\nprint(short_movies[0:20])",
    "outputsMetadata": {
     "0": {
      "height": 466,
      "type": "stream"
     }
    },
    "tags": [
     "sample_code"
    ]
   },
   "outputs": [
    {
     "name": "stdout",
     "output_type": "stream",
     "text": [
      "                                                 title         country  \\\n",
      "35                                           #Rucker50   United States   \n",
      "55                 100 Things to do Before High School   United States   \n",
      "67   13TH: A Conversation with Oprah Winfrey & Ava ...             NaN   \n",
      "101                                  3 Seconds Divorce          Canada   \n",
      "146                                     A 3 Minute Hug          Mexico   \n",
      "162  A Christmas Special: Miraculous: Tales of Lady...          France   \n",
      "171                         A Family Reunion Christmas   United States   \n",
      "177                    A Go! Go! Cory Carson Christmas   United States   \n",
      "178                    A Go! Go! Cory Carson Halloween             NaN   \n",
      "179                  A Go! Go! Cory Carson Summer Camp             NaN   \n",
      "181             A Grand Night In: The Story of Aardman  United Kingdom   \n",
      "200                            A Love Song for Latasha   United States   \n",
      "220                         A Russell Peters Christmas          Canada   \n",
      "233                              A StoryBots Christmas   United States   \n",
      "237                             A Tale of Two Kitchens   United States   \n",
      "242                            A Trash Truck Christmas             NaN   \n",
      "247                            A Very Murray Christmas   United States   \n",
      "285                               Abominable Christmas   United States   \n",
      "295                                 Across Grace Alley   United States   \n",
      "305                Adam Devine: Best Time of Our Lives   United States   \n",
      "\n",
      "             genre  release_year  duration  \n",
      "35   Documentaries          2016        56  \n",
      "55   Uncategorized          2014        44  \n",
      "67   Uncategorized          2017        37  \n",
      "101  Documentaries          2018        53  \n",
      "146  Documentaries          2019        28  \n",
      "162  Uncategorized          2016        22  \n",
      "171  Uncategorized          2019        29  \n",
      "177       Children          2020        22  \n",
      "178       Children          2020        22  \n",
      "179       Children          2020        21  \n",
      "181  Documentaries          2015        59  \n",
      "200  Documentaries          2020        20  \n",
      "220       Stand-Up          2011        44  \n",
      "233       Children          2017        26  \n",
      "237  Documentaries          2019        30  \n",
      "242       Children          2020        28  \n",
      "247       Comedies          2015        57  \n",
      "285       Children          2012        44  \n",
      "295         Dramas          2013        24  \n",
      "305       Stand-Up          2019        59  \n"
     ]
    },
    {
     "name": "stderr",
     "output_type": "stream",
     "text": [
      "C:\\Users\\Dell\\AppData\\Local\\Temp\\ipykernel_18016\\59079299.py:2: UserWarning: Boolean Series key will be reindexed to match DataFrame index.\n",
      "  short_movies = netflix_movies_col_subset[netflix_df['duration'] < 60 ]\n"
     ]
    }
   ],
   "source": [
    "# Filter for durations shorter than 60 minutes\n",
    "short_movies = netflix_movies_col_subset[netflix_df['duration'] < 60 ]\n",
    "\n",
    "# Print the first 20 rows of short_movies\n",
    "print(short_movies[0:20])"
   ]
  },
  {
   "cell_type": "markdown",
   "id": "6482511d-9bc3-416e-b793-cd4ba8b84c53",
   "metadata": {
    "dc": {
     "key": "53"
    },
    "run_control": {
     "frozen": true
    },
    "tags": [
     "context"
    ]
   },
   "source": [
    "## 8. Marking non-feature films\n",
    "<p>Interesting! It looks as though many of the films that are under 60 minutes fall into genres such as \"Children\", \"Stand-Up\", and \"Documentaries\". This is a logical result, as these types of films are probably often shorter than 90 minute Hollywood blockbuster. </p>\n",
    "<p>We could eliminate these rows from our DataFrame and plot the values again. But another interesting way to explore the effect of these genres on our data would be to plot them, but mark them with a different color.</p>\n",
    "<p>In Python, there are many ways to do this, but one fun way might be to use a loop to generate a list of colors based on the contents of the <code>genre</code> column. Much as we did in Intermediate Python, we can then pass this list to our plotting function in a later step to color all non-typical genres in a different color!</p>\n",
    "<p><em>Note: Although we are using the basic colors of red, blue, green, and black, <code>matplotlib</code> has many named colors you can use when creating plots. For more information, you can refer to the documentation <a href=\"https://matplotlib.org/stable/gallery/color/named_colors.html\">here</a>!</em></p>"
   ]
  },
  {
   "cell_type": "code",
   "execution_count": 8,
   "id": "45fce69a-7c17-4962-843f-6dd101ebd218",
   "metadata": {
    "dc": {
     "key": "53"
    },
    "executionCancelledAt": null,
    "executionTime": 228,
    "lastExecutedAt": 1691308845575,
    "lastScheduledRunId": null,
    "lastSuccessfullyExecutedCode": "# Define an empty list\ncolors = []\n\n# Iterate over rows of netflix_movies_col_subset\nfor _, row in netflix_df_movies_only.iterrows():\n    genre = row['genre']\n    if genre == 'Children':\n        colors.append('red')\n    elif genre == 'Documentaries':\n        colors.append('blue')\n    elif genre == 'Stand-Up':\n        colors.append('green')\n    else:\n        colors.append('black')\n        \n# Inspect the first 10 values in your list        \nprint(colors[:10])",
    "outputsMetadata": {
     "0": {
      "height": 37,
      "type": "stream"
     }
    },
    "tags": [
     "sample_code"
    ]
   },
   "outputs": [
    {
     "name": "stdout",
     "output_type": "stream",
     "text": [
      "['black', 'black', 'black', 'black', 'black', 'black', 'black', 'black', 'black', 'blue']\n"
     ]
    }
   ],
   "source": [
    "# Define an empty list\n",
    "colors = []\n",
    "\n",
    "# Iterate over rows of netflix_movies_col_subset\n",
    "for _, row in netflix_df_movies_only.iterrows():\n",
    "    genre = row['genre']\n",
    "    if genre == 'Children':\n",
    "        colors.append('red')\n",
    "    elif genre == 'Documentaries':\n",
    "        colors.append('blue')\n",
    "    elif genre == 'Stand-Up':\n",
    "        colors.append('green')\n",
    "    else:\n",
    "        colors.append('black')\n",
    "        \n",
    "# Inspect the first 10 values in your list        \n",
    "print(colors[:10])"
   ]
  },
  {
   "cell_type": "markdown",
   "id": "9902273a-ed3f-4252-82c8-ec5f9db2833b",
   "metadata": {
    "dc": {
     "key": "60"
    },
    "run_control": {
     "frozen": true
    },
    "tags": [
     "context"
    ]
   },
   "source": [
    "## 9. Plotting with color!\n",
    "<p>Lovely looping! We now have a <code>colors</code> list that we can pass to our scatter plot, which should allow us to visually inspect whether these genres might be responsible for the decline in the average duration of movies.</p>\n",
    "<p>This time, we'll also spruce up our plot with some additional axis labels and a new theme with <code>plt.style.use()</code>. The latter isn't taught in Intermediate Python, but can be a fun way to add some visual flair to a basic <code>matplotlib</code> plot. You can find more information on customizing the style of your plot <a href=\"https://matplotlib.org/stable/tutorials/introductory/customizing.html\">here</a>!</p>"
   ]
  },
  {
   "cell_type": "code",
   "execution_count": 9,
   "id": "20abfa67-fade-4c11-bdc0-c583b974f7e5",
   "metadata": {
    "dc": {
     "key": "60"
    },
    "executionCancelledAt": null,
    "executionTime": 237,
    "lastExecutedAt": 1691308845812,
    "lastScheduledRunId": null,
    "lastSuccessfullyExecutedCode": "# Set the figure style and initalize a new figure\nplt.style.use('fivethirtyeight')\nfig = plt.figure(figsize=(12,8))\n\n# Create a scatter plot of duration versus release_year\nduration = netflix_movies_col_subset['duration']\nrelease_year = netflix_movies_col_subset['release_year']\nplt.scatter(release_year, duration, marker='o', color='b')\n\n# Create a title and axis labels\nplt.title(\"Movie duration by year of release\")\nplt.xlabel(\"Release year\")\nplt.ylabel(\"Duration (min)\")\n\n# Show the plot\nplt.show()",
    "tags": [
     "sample_code"
    ]
   },
   "outputs": [
    {
     "data": {
      "image/png": "[encoded data removed]",
      "text/plain": [
       "<Figure size 864x576 with 1 Axes>"
      ]
     },
     "metadata": {},
     "output_type": "display_data"
    }
   ],
   "source": [
    "# Set the figure style and initalize a new figure\n",
    "plt.style.use('fivethirtyeight')\n",
    "fig = plt.figure(figsize=(12,8))\n",
    "\n",
    "# Create a scatter plot of duration versus release_year\n",
    "duration = netflix_movies_col_subset['duration']\n",
    "release_year = netflix_movies_col_subset['release_year']\n",
    "plt.scatter(release_year, duration, marker='o', color='b')\n",
    "\n",
    "# Create a title and axis labels\n",
    "plt.title(\"Movie duration by year of release\")\n",
    "plt.xlabel(\"Release year\")\n",
    "plt.ylabel(\"Duration (min)\")\n",
    "\n",
    "# Show the plot\n",
    "plt.show()"
   ]
  },
  {
   "cell_type": "markdown",
   "id": "0a3074df-087d-4b5a-a218-d102582a9e1c",
   "metadata": {
    "dc": {
     "key": "67"
    },
    "run_control": {
     "frozen": true
    },
    "tags": [
     "context"
    ]
   },
   "source": [
    "## 10. What next?\n",
    "<p>Well, as we suspected, non-typical genres such as children's movies and documentaries are all clustered around the bottom half of the plot. But we can't know for certain until we perform additional analyses. </p>\n",
    "<p>Congratulations, you've performed an exploratory analysis of some entertainment data, and there are lots of fun ways to develop your skills as a Pythonic data scientist. These include learning how to analyze data further with statistics, creating more advanced visualizations, and perhaps most importantly, learning more advanced ways of working with data in <code>pandas</code>. This latter skill is covered in our fantastic course <a href=\"www.datacamp.com/courses/data-manipulation-with-pandas\">Data Manipulation with pandas</a>.</p>\n",
    "<p>We hope you enjoyed this application of the skills learned in Intermediate Python, and wish you all the best on the rest of your journey!</p>"
   ]
  },
  {
   "cell_type": "code",
   "execution_count": 10,
   "id": "92eb05cb-08f3-43bd-9226-7cd0ee655249",
   "metadata": {
    "dc": {
     "key": "67"
    },
    "executionCancelledAt": null,
    "executionTime": 47,
    "jupyter": {
     "outputs_hidden": true
    },
    "lastExecutedAt": 1691308845859,
    "lastScheduledRunId": null,
    "lastSuccessfullyExecutedCode": "# Are we certain that movies are getting shorter?\nare_movies_getting_shorter = \"I don't think so, because the production has increased but average time is same.\"",
    "tags": [
     "sample_code"
    ]
   },
   "outputs": [],
   "source": [
    "# Are we certain that movies are getting shorter?\n",
    "are_movies_getting_shorter = \"I don't think so, because the production has increased but average time is same.\""
   ]
  }
 ],
 "metadata": {
  "editor": "DataCamp Workspace",
  "kernelspec": {
   "display_name": "Python 3 (ipykernel)",
   "language": "python",
   "name": "python3"
  },
  "language_info": {
   "codemirror_mode": {
    "name": "ipython",
    "version": 3
   },
   "file_extension": ".py",
   "mimetype": "text/x-python",
   "name": "python",
   "nbconvert_exporter": "python",
   "pygments_lexer": "ipython3",
   "version": "3.9.12"
  }
 },
 "nbformat": 4,
 "nbformat_minor": 5
}
